{
 "cells": [
  {
   "cell_type": "code",
   "execution_count": 3,
   "id": "c729d3ad",
   "metadata": {},
   "outputs": [],
   "source": [
    "actress = ['Azusa', 'Anri', 'Aika']"
   ]
  },
  {
   "cell_type": "code",
   "execution_count": 4,
   "id": "43b8d83d",
   "metadata": {},
   "outputs": [
    {
     "name": "stdout",
     "output_type": "stream",
     "text": [
      "['Azusa', 'Anri', 'Aika']\n"
     ]
    }
   ],
   "source": [
    "print(actress)"
   ]
  },
  {
   "cell_type": "code",
   "execution_count": 5,
   "id": "00ca4f3e",
   "metadata": {},
   "outputs": [
    {
     "data": {
      "text/plain": [
       "<enumerate at 0x1dce82d4fc0>"
      ]
     },
     "execution_count": 5,
     "metadata": {},
     "output_type": "execute_result"
    }
   ],
   "source": [
    "enumerate(actress)"
   ]
  },
  {
   "cell_type": "markdown",
   "id": "fcae8fb7",
   "metadata": {},
   "source": [
    "# 홀짝 판별"
   ]
  },
  {
   "cell_type": "code",
   "execution_count": 6,
   "id": "9fc2a91e",
   "metadata": {},
   "outputs": [
    {
     "name": "stdout",
     "output_type": "stream",
     "text": [
      "짝수\n"
     ]
    }
   ],
   "source": [
    "num = 10\n",
    "\n",
    "if num % 2 == 1:\n",
    "    print('홀수')\n",
    "else:\n",
    "    print('짝수')\n"
   ]
  },
  {
   "cell_type": "code",
   "execution_count": 15,
   "id": "51f71654",
   "metadata": {},
   "outputs": [
    {
     "name": "stdout",
     "output_type": "stream",
     "text": [
      "숫자를 입력하셈 : -3\n",
      "홀수\n"
     ]
    }
   ],
   "source": [
    "num1 = int(input('숫자를 입력하셈 : '))\n",
    "\n",
    "if num1 % 2 == 1:\n",
    "    print('홀수')\n",
    "else:\n",
    "    print('짝수')\n"
   ]
  },
  {
   "cell_type": "markdown",
   "id": "efdb255c",
   "metadata": {},
   "source": [
    "# 1부터 10까지 출력"
   ]
  },
  {
   "cell_type": "code",
   "execution_count": 16,
   "id": "776c508c",
   "metadata": {},
   "outputs": [
    {
     "name": "stdout",
     "output_type": "stream",
     "text": [
      "1\n",
      "2\n",
      "3\n",
      "4\n",
      "5\n",
      "6\n",
      "7\n",
      "8\n",
      "9\n",
      "10\n"
     ]
    }
   ],
   "source": [
    "n = 10\n",
    "for i in range(n):\n",
    "    print(i+1)\n"
   ]
  },
  {
   "cell_type": "code",
   "execution_count": 17,
   "id": "2977add2",
   "metadata": {
    "scrolled": true
   },
   "outputs": [
    {
     "name": "stdout",
     "output_type": "stream",
     "text": [
      "[1, 2, 3, 4, 5, 6, 7, 8, 9, 10]\n"
     ]
    }
   ],
   "source": [
    "n = 10\n",
    "num_list = []\n",
    "for i in range(n):\n",
    "    num_list.append(i+1)\n",
    "print(num_list)"
   ]
  },
  {
   "cell_type": "code",
   "execution_count": 20,
   "id": "aadad668",
   "metadata": {},
   "outputs": [
    {
     "name": "stdout",
     "output_type": "stream",
     "text": [
      "1\n",
      "2\n",
      "3\n",
      "4\n",
      "5\n",
      "6\n",
      "7\n",
      "8\n",
      "9\n",
      "10\n"
     ]
    }
   ],
   "source": [
    "cnt = 1\n",
    "while cnt<11:\n",
    "    print(cnt)\n",
    "    cnt += 1"
   ]
  },
  {
   "cell_type": "code",
   "execution_count": 22,
   "id": "1029f699",
   "metadata": {},
   "outputs": [
    {
     "name": "stdout",
     "output_type": "stream",
     "text": [
      "1 2 3 4 5 6 7 8 9 10 "
     ]
    }
   ],
   "source": [
    "cnt = 1\n",
    "while cnt<11:\n",
    "    print(cnt, end = ' ')\n",
    "    cnt += 1"
   ]
  },
  {
   "cell_type": "code",
   "execution_count": 1,
   "id": "610f1765",
   "metadata": {},
   "outputs": [
    {
     "name": "stdout",
     "output_type": "stream",
     "text": [
      "자연수 n을 입력하시오. : 10\n",
      "55\n"
     ]
    }
   ],
   "source": [
    "number = int(input('자연수 n을 입력하시오. : '))\n",
    "total_num = 0\n",
    "for i in range(number):\n",
    "    total_num += i+1\n",
    "    \n",
    "print(total_num)"
   ]
  },
  {
   "cell_type": "code",
   "execution_count": null,
   "id": "c811ada7",
   "metadata": {},
   "outputs": [],
   "source": [
    "number = int(input('자연수를 입력하시오 : '))\n"
   ]
  }
 ],
 "metadata": {
  "kernelspec": {
   "display_name": "Python 3 (ipykernel)",
   "language": "python",
   "name": "python3"
  },
  "language_info": {
   "codemirror_mode": {
    "name": "ipython",
    "version": 3
   },
   "file_extension": ".py",
   "mimetype": "text/x-python",
   "name": "python",
   "nbconvert_exporter": "python",
   "pygments_lexer": "ipython3",
   "version": "3.9.9"
  }
 },
 "nbformat": 4,
 "nbformat_minor": 5
}
