{
 "cells": [
  {
   "cell_type": "markdown",
   "metadata": {},
   "source": [
    "# Practice\n",
    "\n",
    "> OOP(Object-Oriented-Programming)"
   ]
  },
  {
   "cell_type": "markdown",
   "metadata": {},
   "source": [
    "## Pair Matching Program\n",
    "\n",
    "> 페어 프로그래밍은 하나의 컴퓨터에서 두 사람의 프로그래머가 작업하는 방식을 의미한다. \n",
    ">\n",
    "> SSAFY 1학기 정규 과정에서 프로젝트는 페어 프로그래밍을 통해 진행한다. 진정한 프로그래머가 되기 위해 김싸피는 페어를 매칭하기 위한 프로그램을 작성하려고 한다. 클래스를 활용해 작성하며 포함되는 메서드는 아래와 같다.\n",
    ">\n",
    "\n",
    "**구성 요소**\n",
    "1. 초기화 메서드는 인자로 학생 이름으로 구성된 리스트를 받아서 인스턴스 변수에 할당한다.\n",
    "2. `pick(n)` 메서드는 학생들 명단에서 인자 n명 만큼 랜덤으로 추출하여 return한다.\n",
    "3. `match_pair()` 메서드는 학생들 명단을 랜덤으로 2명씩 매칭해 준다. 이때, 학생들 명단의 수가 홀수명이면 단 한팀만 3명으로 구성한다.\n",
    "\n",
    "---\n",
    "\n",
    "예시)\n",
    "\n",
    "```python\n",
    "ch = ClassHelper(['김싸피', '이싸피', '조싸피', '박싸피', '정싸피'])\n",
    "\n",
    "ch.pick(1) #=> ['이싸피']\n",
    "ch.pick(1) #=> ['김싸피']\n",
    "ch.pick(2) #=> ['김싸피', '박싸피']\n",
    "ch.pick(3) #=> ['김싸피', '조싸피', '정싸피']\n",
    "ch.pick(4) #=> ['박싸피', '이싸피', '김싸피', '정싸피']\n",
    "\n",
    "ch.match_pair() #=> [['조싸피', '이싸피'], ['김싸피', '정싸피', '박싸피']]\n",
    "```"
   ]
  },
  {
   "cell_type": "code",
   "execution_count": 10,
   "metadata": {},
   "outputs": [],
   "source": [
    "students = ['윤신희', '김준우', '박현진', '김도현', '채송지', '곽종환', '고형주', '정지은', '김미애','김혜린', '류현수', '민경욱', \n",
    "            '이승훈', '신선영', '유현욱', '엄윤규', '윤현식', '정의찬','이동환', '호인영', '임완택', '전민재', '정예원', '유지언', '한상우', '김찬영', '한하평']\n"
   ]
  },
  {
   "cell_type": "code",
   "execution_count": 8,
   "metadata": {},
   "outputs": [
    {
     "ename": "IndentationError",
     "evalue": "expected an indented block (2984341150.py, line 11)",
     "output_type": "error",
     "traceback": [
      "\u001b[1;36m  Input \u001b[1;32mIn [8]\u001b[1;36m\u001b[0m\n\u001b[1;33m    for i in range(n):\u001b[0m\n\u001b[1;37m                      ^\u001b[0m\n\u001b[1;31mIndentationError\u001b[0m\u001b[1;31m:\u001b[0m expected an indented block\n"
     ]
    }
   ],
   "source": [
    "import random\n",
    "\n",
    "random.shuffle(students)\n",
    "\n",
    "class ClassHelper:\n",
    "    \n",
    "    def __init__(self, lists):\n",
    "        self.lists = lists\n",
    "        \n",
    "    def pick(self, n):\n",
    "        for i in range(n):"
   ]
  },
  {
   "cell_type": "code",
   "execution_count": 16,
   "metadata": {},
   "outputs": [
    {
     "ename": "TypeError",
     "evalue": "object of type 'ClassHelper' has no len()",
     "output_type": "error",
     "traceback": [
      "\u001b[1;31m---------------------------------------------------------------------------\u001b[0m",
      "\u001b[1;31mTypeError\u001b[0m                                 Traceback (most recent call last)",
      "Input \u001b[1;32mIn [16]\u001b[0m, in \u001b[0;36m<module>\u001b[1;34m\u001b[0m\n\u001b[0;32m      1\u001b[0m \u001b[38;5;28;01mimport\u001b[39;00m \u001b[38;5;21;01mrandom\u001b[39;00m\n\u001b[1;32m----> 3\u001b[0m \u001b[43mrandom\u001b[49m\u001b[38;5;241;43m.\u001b[39;49m\u001b[43mshuffle\u001b[49m\u001b[43m(\u001b[49m\u001b[43mstudents\u001b[49m\u001b[43m)\u001b[49m\n\u001b[0;32m      5\u001b[0m \u001b[38;5;28;01mclass\u001b[39;00m \u001b[38;5;21;01mClassHelper\u001b[39;00m:\n\u001b[0;32m      6\u001b[0m     \u001b[38;5;28;01mdef\u001b[39;00m \u001b[38;5;21m__init__\u001b[39m(\u001b[38;5;28mself\u001b[39m, name):\n",
      "File \u001b[1;32m~\\AppData\\Local\\Programs\\Python\\Python39\\lib\\random.py:359\u001b[0m, in \u001b[0;36mRandom.shuffle\u001b[1;34m(self, x, random)\u001b[0m\n\u001b[0;32m    357\u001b[0m \u001b[38;5;28;01mif\u001b[39;00m random \u001b[38;5;129;01mis\u001b[39;00m \u001b[38;5;28;01mNone\u001b[39;00m:\n\u001b[0;32m    358\u001b[0m     randbelow \u001b[38;5;241m=\u001b[39m \u001b[38;5;28mself\u001b[39m\u001b[38;5;241m.\u001b[39m_randbelow\n\u001b[1;32m--> 359\u001b[0m     \u001b[38;5;28;01mfor\u001b[39;00m i \u001b[38;5;129;01min\u001b[39;00m \u001b[38;5;28mreversed\u001b[39m(\u001b[38;5;28mrange\u001b[39m(\u001b[38;5;241m1\u001b[39m, \u001b[38;5;28;43mlen\u001b[39;49m\u001b[43m(\u001b[49m\u001b[43mx\u001b[49m\u001b[43m)\u001b[49m)):\n\u001b[0;32m    360\u001b[0m         \u001b[38;5;66;03m# pick an element in x[:i+1] with which to exchange x[i]\u001b[39;00m\n\u001b[0;32m    361\u001b[0m         j \u001b[38;5;241m=\u001b[39m randbelow(i \u001b[38;5;241m+\u001b[39m \u001b[38;5;241m1\u001b[39m)\n\u001b[0;32m    362\u001b[0m         x[i], x[j] \u001b[38;5;241m=\u001b[39m x[j], x[i]\n",
      "\u001b[1;31mTypeError\u001b[0m: object of type 'ClassHelper' has no len()"
     ]
    }
   ],
   "source": [
    "import random\n",
    "\n",
    "class ClassHelper:\n",
    "    def __init__(self, name):\n",
    "        self.name = name\n",
    "        \n",
    "    def pick(self, n):\n",
    "        return print(random.sample(self.name, n))\n",
    "    \n",
    "    def match_pair(self):\n",
    "        match = list()\n",
    "        name = random.sample(self.name, len(self.name))\n",
    "        if len(name) % 2 == 0:\n",
    "            for i in range(0, len(name), 2):\n",
    "                match.append(name[i:i+2])\n",
    "        else:\n",
    "            for i in range(0, len(name)-3, 2):\n",
    "                match.append(name[i:i+2])\n",
    "            match.append(name[len(name)-3:])\n",
    "        return print(match)"
   ]
  },
  {
   "cell_type": "code",
   "execution_count": 15,
   "metadata": {},
   "outputs": [],
   "source": [
    "# 해당 코드를 통해 올바른 결과가 나오는지 확인하시오.\n",
    "ch = ClassHelper(['윤신희', '김준우', '박현진', '김도현', '채송지', '곽종환', '고형주', '정지은', '김미애','김혜린', '류현수', '민경욱', \n",
    "            '이승훈', '신선영', '유현욱', '엄윤규', '윤현식', '정의찬','이동환', '호인영', '임완택', '전민재', '정예원', '유지언', '한상우', '김찬영', '한하평'])\n"
   ]
  },
  {
   "cell_type": "code",
   "execution_count": 14,
   "metadata": {},
   "outputs": [
    {
     "ename": "NameError",
     "evalue": "name 'ch' is not defined",
     "output_type": "error",
     "traceback": [
      "\u001b[1;31m---------------------------------------------------------------------------\u001b[0m",
      "\u001b[1;31mNameError\u001b[0m                                 Traceback (most recent call last)",
      "Input \u001b[1;32mIn [14]\u001b[0m, in \u001b[0;36m<module>\u001b[1;34m\u001b[0m\n\u001b[1;32m----> 1\u001b[0m \u001b[43mch\u001b[49m\u001b[38;5;241m.\u001b[39mpick(\u001b[38;5;241m1\u001b[39m) \u001b[38;5;66;03m#=> ['이싸피']\u001b[39;00m\n\u001b[0;32m      2\u001b[0m ch\u001b[38;5;241m.\u001b[39mpick(\u001b[38;5;241m1\u001b[39m) \u001b[38;5;66;03m#=> ['김싸피']\u001b[39;00m\n\u001b[0;32m      3\u001b[0m ch\u001b[38;5;241m.\u001b[39mpick(\u001b[38;5;241m2\u001b[39m) \u001b[38;5;66;03m#=> ['김싸피', '박싸피']\u001b[39;00m\n",
      "\u001b[1;31mNameError\u001b[0m: name 'ch' is not defined"
     ]
    }
   ],
   "source": [
    "ch.pick(1) #=> ['이싸피']\n",
    "ch.pick(1) #=> ['김싸피']\n",
    "ch.pick(2) #=> ['김싸피', '박싸피']\n",
    "ch.pick(3) #=> ['김싸피', '조싸피', '정싸피']\n",
    "ch.pick(4) #=> ['박싸피', '이싸피', '김싸피', '정싸피']\n",
    "\n",
    "ch.match_pair() #=> [['조싸피', '이싸피'], ['김싸피', '정싸피', '박싸피']]"
   ]
  }
 ],
 "metadata": {
  "kernelspec": {
   "display_name": "Python 3 (ipykernel)",
   "language": "python",
   "name": "python3"
  },
  "language_info": {
   "codemirror_mode": {
    "name": "ipython",
    "version": 3
   },
   "file_extension": ".py",
   "mimetype": "text/x-python",
   "name": "python",
   "nbconvert_exporter": "python",
   "pygments_lexer": "ipython3",
   "version": "3.9.9"
  },
  "toc": {
   "base_numbering": 1,
   "nav_menu": {},
   "number_sections": true,
   "sideBar": true,
   "skip_h1_title": false,
   "title_cell": "Table of Contents",
   "title_sidebar": "Contents",
   "toc_cell": false,
   "toc_position": {},
   "toc_section_display": true,
   "toc_window_display": false
  }
 },
 "nbformat": 4,
 "nbformat_minor": 4
}
