{
 "cells": [
  {
   "cell_type": "code",
   "execution_count": 1,
   "id": "dbfdfd69",
   "metadata": {},
   "outputs": [
    {
     "ename": "NameError",
     "evalue": "name 'p1' is not defined",
     "output_type": "error",
     "traceback": [
      "\u001b[1;31m---------------------------------------------------------------------------\u001b[0m",
      "\u001b[1;31mNameError\u001b[0m                                 Traceback (most recent call last)",
      "Input \u001b[1;32mIn [1]\u001b[0m, in \u001b[0;36m<module>\u001b[1;34m\u001b[0m\n\u001b[0;32m     23\u001b[0m p4 \u001b[38;5;241m=\u001b[39m Point(\u001b[38;5;241m6\u001b[39m, \u001b[38;5;241m4\u001b[39m)\n\u001b[0;32m     24\u001b[0m r2 \u001b[38;5;241m=\u001b[39m Rectangle(p3, p4)\n\u001b[1;32m---> 25\u001b[0m \u001b[38;5;28mprint\u001b[39m(\u001b[43mr2\u001b[49m\u001b[38;5;241;43m.\u001b[39;49m\u001b[43mget_area\u001b[49m\u001b[43m(\u001b[49m\u001b[43m)\u001b[49m)\n\u001b[0;32m     26\u001b[0m \u001b[38;5;28mprint\u001b[39m(r2\u001b[38;5;241m.\u001b[39mget_perimeter())\n\u001b[0;32m     27\u001b[0m \u001b[38;5;28mprint\u001b[39m(r2\u001b[38;5;241m.\u001b[39mis_square())\n",
      "Input \u001b[1;32mIn [1]\u001b[0m, in \u001b[0;36mRectangle.get_area\u001b[1;34m(self)\u001b[0m\n\u001b[0;32m     13\u001b[0m \u001b[38;5;28;01mdef\u001b[39;00m \u001b[38;5;21mget_area\u001b[39m(\u001b[38;5;28mself\u001b[39m):\n\u001b[1;32m---> 14\u001b[0m     \u001b[38;5;28;01mreturn\u001b[39;00m \u001b[38;5;28mabs\u001b[39m((\u001b[43mp1\u001b[49m\u001b[38;5;241m.\u001b[39mx \u001b[38;5;241m-\u001b[39m p2\u001b[38;5;241m.\u001b[39mx) \u001b[38;5;241m*\u001b[39m (p1\u001b[38;5;241m.\u001b[39my \u001b[38;5;241m-\u001b[39m p2\u001b[38;5;241m.\u001b[39my))\n",
      "\u001b[1;31mNameError\u001b[0m: name 'p1' is not defined"
     ]
    }
   ],
   "source": [
    "class Point:\n",
    "    \n",
    "    def __init__(self, x, y):\n",
    "        self.x = x\n",
    "        self.y = y\n",
    "\n",
    "class Rectangle(Point):\n",
    "    \n",
    "    def __init__(self, p1, p2):\n",
    "        self.p1 = p1\n",
    "        self.p2 = p2\n",
    "    \n",
    "    def get_area(self):\n",
    "        return abs((p1.x - p2.x) * (p1.y - p2.y))\n",
    "    \n",
    "    def get_perimeter(self):\n",
    "        return abs(p1.x - p2.x)*2 + abs(p1.y - p2.y)*2\n",
    "    \n",
    "    def is_square(self):\n",
    "        return not (abs(p1.x - p2.x) - abs(p1.y - p2.y))\n",
    "    \n",
    "p3 = Point(3, 7)\n",
    "p4 = Point(6, 4)\n",
    "r2 = Rectangle(p3, p4)\n",
    "print(r2.get_area())\n",
    "print(r2.get_perimeter())\n",
    "print(r2.is_square())"
   ]
  }
 ],
 "metadata": {
  "kernelspec": {
   "display_name": "Python 3 (ipykernel)",
   "language": "python",
   "name": "python3"
  },
  "language_info": {
   "codemirror_mode": {
    "name": "ipython",
    "version": 3
   },
   "file_extension": ".py",
   "mimetype": "text/x-python",
   "name": "python",
   "nbconvert_exporter": "python",
   "pygments_lexer": "ipython3",
   "version": "3.9.9"
  }
 },
 "nbformat": 4,
 "nbformat_minor": 5
}
