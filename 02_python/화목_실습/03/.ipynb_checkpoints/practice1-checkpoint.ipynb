{
 "cells": [
  {
   "cell_type": "markdown",
   "metadata": {},
   "source": [
    "# Practice 1\n",
    "\n",
    "> 복잡한 자료구조의 (2차원 리스트) 반복문"
   ]
  },
  {
   "cell_type": "markdown",
   "metadata": {},
   "source": [
    "## 복잡한 리스트의 합\n",
    "\n",
    "> 2차원 리스트를 반복하는 방법을 알아봅시다. \n",
    "\n",
    "\n",
    "* 주어진 아래의 리스트를 반복하여 숫자의 합을 반환하시오.\n",
    "\n",
    "---\n",
    "**예시 입력**\n",
    "\n",
    "```python\n",
    "numbers = [\n",
    "    [1, 4],\n",
    "    [10, 5],\n",
    "    [20, 30]    \n",
    "]\n",
    "\n",
    "```\n",
    "\n",
    "**예시 출력**\n",
    "```python\n",
    "sum_list([[1, 4], [10, 5], [20, 30]]) # 70\n",
    "```"
   ]
  },
  {
   "cell_type": "markdown",
   "metadata": {},
   "source": [
    "### for 문을 활용하여 풀이하기\n",
    "\n",
    "```python\n",
    "for element in list:\n",
    "```"
   ]
  },
  {
   "cell_type": "code",
   "execution_count": 8,
   "metadata": {},
   "outputs": [],
   "source": [
    "# 아래에 코드를 작성하세요.\n",
    "def sum_list(numbers):\n",
    "    sum1 = 0\n",
    "    for lists in numbers:\n",
    "        for number in lists:\n",
    "            sum1 += number\n",
    "    return sum1"
   ]
  },
  {
   "cell_type": "code",
   "execution_count": 9,
   "metadata": {},
   "outputs": [
    {
     "name": "stdout",
     "output_type": "stream",
     "text": [
      "70\n"
     ]
    }
   ],
   "source": [
    "print(sum_list([[1, 4], [10, 5], [20, 30]]))"
   ]
  },
  {
   "cell_type": "markdown",
   "metadata": {},
   "source": [
    "### Index로 접근하여 풀이하기\n",
    "\n",
    "```python\n",
    "for element in range(len(list)):\n",
    "```"
   ]
  },
  {
   "cell_type": "code",
   "execution_count": 10,
   "metadata": {},
   "outputs": [],
   "source": [
    "# 아래에 코드를 작성하세요.\n",
    "def sum_list_index(numbers):\n",
    "    sum2 = 0\n",
    "    for i in range(len(numbers)):\n",
    "        for j in range(len(numbers[i])):\n",
    "            sum2 += numbers[i][j]\n",
    "    return sum2"
   ]
  },
  {
   "cell_type": "code",
   "execution_count": 11,
   "metadata": {},
   "outputs": [
    {
     "name": "stdout",
     "output_type": "stream",
     "text": [
      "70\n"
     ]
    }
   ],
   "source": [
    "print(sum_list_index([[1, 4], [10, 5], [20, 30]]))"
   ]
  },
  {
   "cell_type": "markdown",
   "metadata": {},
   "source": [
    "### while 문을 활용하여 풀이하기\n",
    "\n",
    "```python\n",
    "while ____:\n",
    "```"
   ]
  },
  {
   "cell_type": "code",
   "execution_count": 26,
   "metadata": {},
   "outputs": [],
   "source": [
    "## 아래에 코드를 작성하세요.\n",
    "def sum_list_while(numbers):\n",
    "    sum3 = 0\n",
    "    while numbers:\n",
    "        sum3 += sum(numbers[0])\n",
    "        numbers.pop(0)\n",
    "    return sum3"
   ]
  },
  {
   "cell_type": "code",
   "execution_count": 27,
   "metadata": {},
   "outputs": [
    {
     "name": "stdout",
     "output_type": "stream",
     "text": [
      "70\n"
     ]
    }
   ],
   "source": [
    "print(sum_list_while([[1, 4], [10, 5], [20, 30]]))"
   ]
  },
  {
   "cell_type": "markdown",
   "metadata": {},
   "source": [
    "## 시험 점수\n",
    "\n",
    "> 2차원 배열\n",
    "\n",
    "\n",
    "* A반 학생들의 점수는 아래와 같고, students 리스트에 저장되어 있다.\n",
    "\n",
    "    * A학생(국어 100점, 수학 80점, 영어 100점)\n",
    "    * B학생(국어 90점, 수학 90점, 영어 60점)\n",
    "    * C학생(국어 80점, 수학 80점, 영어 80점)\n",
    "\n",
    "```python\n",
    "students = [\n",
    " [100, 80, 100],\n",
    " [90, 90, 60],\n",
    " [80, 80, 80]\n",
    "]\n",
    "```"
   ]
  },
  {
   "cell_type": "markdown",
   "metadata": {},
   "source": [
    "### 학생별 출력\n",
    "\n",
    "* 아래의 리스트를 반복하여 **학생별 총합**을 순서대로 `출력`하시오.\n",
    "\n",
    "* `sum` 함수 사용 금지\n",
    "\n",
    "---\n",
    "**예시 입력**\n",
    "\n",
    "```python\n",
    "students = [\n",
    " [100, 80, 100],\n",
    " [90, 90, 60],\n",
    " [80, 80, 80]\n",
    "]\n",
    "```\n",
    "\n",
    "**예시 출력**\n",
    "```\n",
    "280\n",
    "240\n",
    "240\n",
    "```"
   ]
  },
  {
   "cell_type": "code",
   "execution_count": 12,
   "metadata": {},
   "outputs": [],
   "source": [
    "students = [\n",
    " [100, 80, 100],\n",
    " [90, 90, 60],\n",
    " [80, 80, 80]\n",
    "]"
   ]
  },
  {
   "cell_type": "code",
   "execution_count": 15,
   "metadata": {},
   "outputs": [
    {
     "name": "stdout",
     "output_type": "stream",
     "text": [
      "280\n",
      "240\n",
      "240\n"
     ]
    }
   ],
   "source": [
    "# 아래에 풀이를 작성하세요. 함수 정의는 필요없습니다.\n",
    "for i in range(len(students)):\n",
    "    sum1 = 0\n",
    "    for j in range(len(students[i])):\n",
    "        sum1 += students[i][j]\n",
    "    print(sum1)\n",
    "    \n",
    "for i in range(len(students)):\n",
    "    sum2 = 0\n",
    "    while students[i]:\n",
    "        sum2 += students[i][0]\n",
    "        students[i].pop(0)\n",
    "    print(sum2)"
   ]
  },
  {
   "cell_type": "markdown",
   "metadata": {},
   "source": [
    "### 과목별 출력\n",
    "\n",
    "* 아래의 리스트를 반복하여 **과목별 총합**을 순서대로 `출력`하시오.\n",
    "* `sum` 함수 사용 금지\n",
    "\n",
    "---\n",
    "**예시 입력**\n",
    "\n",
    "```python\n",
    "students = [\n",
    " [100, 80, 100],\n",
    " [90, 90, 60],\n",
    " [80, 80, 80]\n",
    "]\n",
    "```\n",
    "\n",
    "**예시 출력**\n",
    "```\n",
    "270\n",
    "250\n",
    "240\n",
    "```"
   ]
  },
  {
   "cell_type": "code",
   "execution_count": 2,
   "metadata": {},
   "outputs": [],
   "source": [
    "students = [\n",
    " [100, 80, 100],\n",
    " [90, 90, 60],\n",
    " [80, 80, 80]\n",
    "]"
   ]
  },
  {
   "cell_type": "code",
   "execution_count": 3,
   "metadata": {},
   "outputs": [
    {
     "name": "stdout",
     "output_type": "stream",
     "text": [
      "270\n",
      "250\n",
      "240\n"
     ]
    }
   ],
   "source": [
    "# 아래에 풀이를 작성하세요. 함수 정의는 필요없습니다.\n",
    "# for i in range(len(students)):\n",
    "#     sum2 = 0\n",
    "#     for j in range(len(students[i])):\n",
    "#         sum2 += students[j][i]\n",
    "#     print(sum2)\n",
    "    \n",
    "for i in range(len(students[0])):\n",
    "    sum2 = 0\n",
    "    for j in range(len(students)):\n",
    "        sum2 += students[j][i]\n",
    "    print(sum2)"
   ]
  },
  {
   "cell_type": "code",
   "execution_count": 82,
   "metadata": {},
   "outputs": [
    {
     "name": "stdout",
     "output_type": "stream",
     "text": [
      "2\n",
      "3\n"
     ]
    }
   ],
   "source": [
    "# HW 5-1\n",
    "def count_vowels(word):\n",
    "    cnt = 0\n",
    "    vowels = ['a', 'e', 'i', 'o', 'u', 'A', 'E', 'I', 'O', 'U']\n",
    "    for i in range(len(vowels)):\n",
    "        cnt += word.count(vowels[i])\n",
    "    return cnt\n",
    "print(count_vowels('apple'))\n",
    "print(count_vowels('banana'))"
   ]
  },
  {
   "cell_type": "code",
   "execution_count": null,
   "metadata": {},
   "outputs": [],
   "source": [
    "# HW 5-2\n",
    "# 4. 지정하지 않으면 공백을 지움"
   ]
  },
  {
   "cell_type": "code",
   "execution_count": 17,
   "metadata": {},
   "outputs": [
    {
     "data": {
      "text/plain": [
       "[1024, 3025]"
      ]
     },
     "execution_count": 17,
     "metadata": {},
     "output_type": "execute_result"
    }
   ],
   "source": [
    "# HW 5-3\n",
    "def only_square_area(breadth, height):\n",
    "    lists = []\n",
    "    for i in range(len(breadth)):\n",
    "        for j in range(len(height)):\n",
    "            if breadth[i] == height[j]:\n",
    "                lists.append(breadth[i] * height[j])\n",
    "    return lists\n",
    "\n",
    "only_square_area([32, 55, 63], [13, 32, 40, 55])"
   ]
  },
  {
   "cell_type": "code",
   "execution_count": 19,
   "metadata": {},
   "outputs": [
    {
     "data": {
      "text/plain": [
       "85.5"
      ]
     },
     "execution_count": 19,
     "metadata": {},
     "output_type": "execute_result"
    }
   ],
   "source": [
    "# Workshop 5-1\n",
    "def get_dict_avg(grade):\n",
    "    total = 0\n",
    "    for key in grade:\n",
    "        total += grade[key]\n",
    "    return total / 4\n",
    "    \n",
    "    \n",
    "get_dict_avg({\n",
    "    'python' : 80,\n",
    "    'algorithm' : 90,\n",
    "    'django' : 89,\n",
    "    'web' : 83\n",
    "})"
   ]
  },
  {
   "cell_type": "code",
   "execution_count": 20,
   "metadata": {},
   "outputs": [
    {
     "data": {
      "text/plain": [
       "{'A': 3, 'B': 3, 'O': 3, 'AB': 3}"
      ]
     },
     "execution_count": 20,
     "metadata": {},
     "output_type": "execute_result"
    }
   ],
   "source": [
    "# Workshop 5-2\n",
    "def count_blood(bloods):\n",
    "    dict1 = {'A':bloods.count('A'), 'B':bloods.count('B'), 'O':bloods.count('O'), 'AB':bloods.count('AB')}\n",
    "    return dict1\n",
    "    \n",
    "    \n",
    "count_blood([\n",
    "    'A', 'B', 'A', 'O', 'AB', 'AB',\n",
    "    'O', 'A', 'B', 'O', 'B', 'AB',\n",
    "])"
   ]
  },
  {
   "cell_type": "code",
   "execution_count": 23,
   "metadata": {},
   "outputs": [
    {
     "name": "stdout",
     "output_type": "stream",
     "text": [
      "[1, 3, 4, 8]\n",
      "[4, 8, 1, 3]\n",
      "[4, 8, 1, 3]\n",
      "None\n",
      "[1, 3, 4, 8]\n"
     ]
    }
   ],
   "source": [
    "# HW 6-1\n",
    "a = [4, 8, 1, 3]\n",
    "print(sorted(a))\n",
    "print(a)\n",
    "# sorted는 함수로써 인자의 값을 일시적으로 바꾼 값을 출력할 뿐, 인자를 바꾸진 않는다.\n",
    "b = [4, 8, 1, 3]\n",
    "print(b)\n",
    "print(b.sort())\n",
    "print(b)\n",
    "# .sort()는 메서드로써 인자의 값을 아예 바꿔버리며 .sort()를 출력할 시 아무것도 출력되지 않는다."
   ]
  },
  {
   "cell_type": "code",
   "execution_count": 51,
   "metadata": {},
   "outputs": [
    {
     "name": "stdout",
     "output_type": "stream",
     "text": [
      "[4, 8, 1, 3, 5]\n",
      "[4, 8, 1, 3, 5, [7, 6]]\n"
     ]
    }
   ],
   "source": [
    "# HW 6-2\n",
    "a = [4, 8, 1, 3]\n",
    "a.append(5)\n",
    "print(a)\n",
    "a.append([7, 6])\n",
    "print(a) # -> [4, 8, 1, 3, 5, [7, 6]]\n",
    "\n",
    "b = [4, 8, 1, 3]\n",
    "# b.extend(5) # TypeError: 'int' object is not iterable 에러 발생\n",
    "b.extend('a')\n",
    "print(b)\n",
    "b.extend([5])\n",
    "print(b)\n",
    "b.extend([7, 6])\n",
    "print(b)\n",
    "b.extend((0, 9))\n",
    "print(b)\n",
    "b.extend({2, 10})\n",
    "print(b)\n",
    "b.extend({'pi':3.14, 'a':'apple'})\n",
    "print(b) # -> [4, 8, 1, 3, 'a', 5, 7, 6, 0, 9, 2, 10, 'pi', 'a']\n",
    "\n",
    "# append는 리스트의 끝에 어떤 인자든 단일인자로 붙이지만 \n",
    "# extend는 정수는 TypeError가 발생한다. iterable한 인자들은 붙일 수 있으며 인자 안의 인자들을 하나하나 떼서 리스트에 붙인다."
   ]
  },
  {
   "cell_type": "code",
   "execution_count": 52,
   "metadata": {},
   "outputs": [
    {
     "name": "stdout",
     "output_type": "stream",
     "text": [
      "[1, 2, 5, 4, 5]\n",
      "[1, 2, 5, 4, 5]\n"
     ]
    }
   ],
   "source": [
    "# HW 6-3\n",
    "a = [1, 2, 3, 4, 5]\n",
    "b = a\n",
    "\n",
    "a[2] = 5\n",
    "\n",
    "print(a)\n",
    "print(b)\n",
    "\n",
    "#같다. a와 b는 같은 리스트를 참조하고 있기 때문이다."
   ]
  },
  {
   "cell_type": "code",
   "execution_count": 60,
   "metadata": {},
   "outputs": [
    {
     "data": {
      "text/plain": [
       "['a', 'n']"
      ]
     },
     "execution_count": 60,
     "metadata": {},
     "output_type": "execute_result"
    }
   ],
   "source": [
    "# Workshop 6-1\n",
    "def duplicated_letters(word):\n",
    "    answer = {''} # 중복을 걸러내기 위해 set사용\n",
    "    for i in range(len(word)):\n",
    "        if word.count(word[i]) > 1:\n",
    "            answer.add(word[i])\n",
    "    return list(answer)[1:] # set을 선언하려면 {}안에 아무 인자라도 있어야함, 그것을 빼고 출력하기 위함\n",
    "duplicated_letters('apple')\n",
    "duplicated_letters('banana')"
   ]
  },
  {
   "cell_type": "code",
   "execution_count": 67,
   "metadata": {},
   "outputs": [
    {
     "data": {
      "text/plain": [
       "'bAnAnA'"
      ]
     },
     "execution_count": 67,
     "metadata": {},
     "output_type": "execute_result"
    }
   ],
   "source": [
    "# Workshop 6-2\n",
    "def low_and_up(word):\n",
    "    answer = ''\n",
    "    for i in range(len(word)):\n",
    "        if i % 2:\n",
    "            answer += word[i].upper()\n",
    "        else:\n",
    "            answer += word[i].lower()\n",
    "    return answer\n",
    "    \n",
    "low_and_up('apple')\n",
    "low_and_up('banana')"
   ]
  },
  {
   "cell_type": "code",
   "execution_count": 83,
   "metadata": {},
   "outputs": [
    {
     "data": {
      "text/plain": [
       "[4, 3]"
      ]
     },
     "execution_count": 83,
     "metadata": {},
     "output_type": "execute_result"
    }
   ],
   "source": [
    "# Workshop 6-3\n",
    "def lonely(numbers):\n",
    "    idx_list = [] # 자기 오른쪽 인자와 중복된 값을 가진 인자의 인덱스값을 모으기 위한 리스트\n",
    "    for i in range(len(numbers)-1):\n",
    "        if numbers[i] == numbers[i+1]:\n",
    "            idx_list.append(i)\n",
    "    for j in range(len(idx_list)):\n",
    "        numbers.pop(idx_list[j]-j) # .pop 메서드를 이용해 한 인자를 빼면 전체 리스트의 길이도 줄어들기 때문에 인덱스 설정을 다시 해줄 필요가 있음.\n",
    "    return numbers\n",
    "\n",
    "# lonely([1, 1, 3, 3, 0, 1, 1])\n",
    "lonely([4, 4, 4, 3, 3])    "
   ]
  },
  {
   "cell_type": "code",
   "execution_count": 73,
   "metadata": {},
   "outputs": [
    {
     "ename": "TypeError",
     "evalue": "pop expected at most 1 argument, got 3",
     "output_type": "error",
     "traceback": [
      "\u001b[1;31m---------------------------------------------------------------------------\u001b[0m",
      "\u001b[1;31mTypeError\u001b[0m                                 Traceback (most recent call last)",
      "Input \u001b[1;32mIn [73]\u001b[0m, in \u001b[0;36m<module>\u001b[1;34m\u001b[0m\n\u001b[0;32m      1\u001b[0m a \u001b[38;5;241m=\u001b[39m [\u001b[38;5;241m0\u001b[39m, \u001b[38;5;241m1\u001b[39m, \u001b[38;5;241m2\u001b[39m, \u001b[38;5;241m3\u001b[39m, \u001b[38;5;241m4\u001b[39m, \u001b[38;5;241m5\u001b[39m, \u001b[38;5;241m6\u001b[39m]\n\u001b[1;32m----> 2\u001b[0m \u001b[43ma\u001b[49m\u001b[38;5;241;43m.\u001b[39;49m\u001b[43mpop\u001b[49m\u001b[43m(\u001b[49m\u001b[38;5;241;43m0\u001b[39;49m\u001b[43m,\u001b[49m\u001b[43m \u001b[49m\u001b[38;5;241;43m2\u001b[39;49m\u001b[43m,\u001b[49m\u001b[43m \u001b[49m\u001b[38;5;241;43m4\u001b[39;49m\u001b[43m)\u001b[49m\n",
      "\u001b[1;31mTypeError\u001b[0m: pop expected at most 1 argument, got 3"
     ]
    }
   ],
   "source": []
  }
 ],
 "metadata": {
  "kernelspec": {
   "display_name": "Python 3 (ipykernel)",
   "language": "python",
   "name": "python3"
  },
  "language_info": {
   "codemirror_mode": {
    "name": "ipython",
    "version": 3
   },
   "file_extension": ".py",
   "mimetype": "text/x-python",
   "name": "python",
   "nbconvert_exporter": "python",
   "pygments_lexer": "ipython3",
   "version": "3.9.9"
  },
  "toc": {
   "base_numbering": 1,
   "nav_menu": {},
   "number_sections": true,
   "sideBar": true,
   "skip_h1_title": false,
   "title_cell": "Table of Contents",
   "title_sidebar": "Contents",
   "toc_cell": false,
   "toc_position": {},
   "toc_section_display": true,
   "toc_window_display": true
  }
 },
 "nbformat": 4,
 "nbformat_minor": 4
}
