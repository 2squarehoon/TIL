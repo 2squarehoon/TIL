{
 "cells": [
  {
   "cell_type": "code",
   "execution_count": 3,
   "id": "c729d3ad",
   "metadata": {},
   "outputs": [],
   "source": [
    "actress = ['Azusa', 'Anri', 'Aika']"
   ]
  },
  {
   "cell_type": "code",
   "execution_count": null,
   "id": "8a3ccf5b",
   "metadata": {},
   "outputs": [],
   "source": []
  },
  {
   "cell_type": "code",
   "execution_count": 4,
   "id": "43b8d83d",
   "metadata": {},
   "outputs": [
    {
     "name": "stdout",
     "output_type": "stream",
     "text": [
      "['Azusa', 'Anri', 'Aika']\n"
     ]
    }
   ],
   "source": [
    "print(actress)"
   ]
  },
  {
   "cell_type": "code",
   "execution_count": 5,
   "id": "00ca4f3e",
   "metadata": {},
   "outputs": [
    {
     "data": {
      "text/plain": [
       "<enumerate at 0x1dce82d4fc0>"
      ]
     },
     "execution_count": 5,
     "metadata": {},
     "output_type": "execute_result"
    }
   ],
   "source": [
    "enumerate(actress)"
   ]
  },
  {
   "cell_type": "markdown",
   "id": "fcae8fb7",
   "metadata": {},
   "source": [
    "# 홀짝 판별"
   ]
  },
  {
   "cell_type": "code",
   "execution_count": 6,
   "id": "9fc2a91e",
   "metadata": {},
   "outputs": [
    {
     "name": "stdout",
     "output_type": "stream",
     "text": [
      "짝수\n"
     ]
    }
   ],
   "source": [
    "num = 10\n",
    "\n",
    "if num % 2 == 1:\n",
    "    print('홀수')\n",
    "else:\n",
    "    print('짝수')\n"
   ]
  },
  {
   "cell_type": "code",
   "execution_count": 15,
   "id": "51f71654",
   "metadata": {},
   "outputs": [
    {
     "name": "stdout",
     "output_type": "stream",
     "text": [
      "숫자를 입력하셈 : -3\n",
      "홀수\n"
     ]
    }
   ],
   "source": [
    "num1 = int(input('숫자를 입력하셈 : '))\n",
    "\n",
    "if num1 % 2 == 1:\n",
    "    print('홀수')\n",
    "else:\n",
    "    print('짝수')\n"
   ]
  },
  {
   "cell_type": "markdown",
   "id": "efdb255c",
   "metadata": {},
   "source": [
    "# 1부터 10까지 출력"
   ]
  },
  {
   "cell_type": "code",
   "execution_count": 16,
   "id": "776c508c",
   "metadata": {},
   "outputs": [
    {
     "name": "stdout",
     "output_type": "stream",
     "text": [
      "1\n",
      "2\n",
      "3\n",
      "4\n",
      "5\n",
      "6\n",
      "7\n",
      "8\n",
      "9\n",
      "10\n"
     ]
    }
   ],
   "source": [
    "n = 10\n",
    "for i in range(n):\n",
    "    print(i+1)\n"
   ]
  },
  {
   "cell_type": "code",
   "execution_count": 17,
   "id": "2977add2",
   "metadata": {
    "scrolled": true
   },
   "outputs": [
    {
     "name": "stdout",
     "output_type": "stream",
     "text": [
      "[1, 2, 3, 4, 5, 6, 7, 8, 9, 10]\n"
     ]
    }
   ],
   "source": [
    "n = 10\n",
    "num_list = []\n",
    "for i in range(n):\n",
    "    num_list.append(i+1)\n",
    "print(num_list)"
   ]
  },
  {
   "cell_type": "code",
   "execution_count": 20,
   "id": "aadad668",
   "metadata": {},
   "outputs": [
    {
     "name": "stdout",
     "output_type": "stream",
     "text": [
      "1\n",
      "2\n",
      "3\n",
      "4\n",
      "5\n",
      "6\n",
      "7\n",
      "8\n",
      "9\n",
      "10\n"
     ]
    }
   ],
   "source": [
    "cnt = 1\n",
    "while cnt<11:\n",
    "    print(cnt)\n",
    "    cnt += 1"
   ]
  },
  {
   "cell_type": "code",
   "execution_count": 22,
   "id": "1029f699",
   "metadata": {},
   "outputs": [
    {
     "name": "stdout",
     "output_type": "stream",
     "text": [
      "1 2 3 4 5 6 7 8 9 10 "
     ]
    }
   ],
   "source": [
    "cnt = 1\n",
    "while cnt<11:\n",
    "    print(cnt, end = ' ')\n",
    "    cnt += 1"
   ]
  },
  {
   "cell_type": "code",
   "execution_count": 1,
   "id": "610f1765",
   "metadata": {},
   "outputs": [
    {
     "name": "stdout",
     "output_type": "stream",
     "text": [
      "자연수 n을 입력하시오. : 10\n",
      "55\n"
     ]
    }
   ],
   "source": [
    "number = int(input('자연수 n을 입력하시오. : '))\n",
    "total_num = 0\n",
    "for i in range(number):\n",
    "    total_num += i+1\n",
    "    \n",
    "print(total_num)"
   ]
  },
  {
   "cell_type": "code",
   "execution_count": null,
   "id": "c811ada7",
   "metadata": {},
   "outputs": [],
   "source": [
    "number = int(input('자연수를 입력하시오 : '))\n"
   ]
  },
  {
   "cell_type": "code",
   "execution_count": 42,
   "id": "4f42cce8",
   "metadata": {},
   "outputs": [
    {
     "name": "stdout",
     "output_type": "stream",
     "text": [
      "54\n"
     ]
    }
   ],
   "source": [
    "def get_middle_char(chars):\n",
    "    if len(chars) % 2:\n",
    "        return chars[(len(chars) // 2):-(len(chars) // 2):]\n",
    "    else:\n",
    "        return chars[((len(chars) // 2)-1):(-(len(chars) // 2)+1):]\n",
    "\n",
    "print(get_middle_char('135451'))"
   ]
  },
  {
   "cell_type": "code",
   "execution_count": 39,
   "id": "5551b416",
   "metadata": {},
   "outputs": [
    {
     "data": {
      "text/plain": [
       "2"
      ]
     },
     "execution_count": 39,
     "metadata": {},
     "output_type": "execute_result"
    }
   ],
   "source": [
    "chars='1551'\n",
    "len(chars) // 2\n",
    "# chars[((len(chars) // 2)-1):(-(len(chars) // 2)+1):]"
   ]
  },
  {
   "cell_type": "code",
   "execution_count": 44,
   "id": "2c435313",
   "metadata": {},
   "outputs": [
    {
     "name": "stdout",
     "output_type": "stream",
     "text": [
      "숫자들을 입력하셈 : 3 3 17 1 39 8 41 2 32 99 2 22 8 5 123 7 2 63 7 3 46 6 63 2 3 58 76 21 33 8 1   \n",
      "['3 3 17 1 39 8 41 2 32 99 2 22 8 5 123 7 2 63 7 3 46 6 63 2 3 58 76 21 33 8 1   ']\n"
     ]
    }
   ],
   "source": [
    "numbers = input('숫자들을 입력하셈 : ')\n",
    "print(numbers.split('\\n'))"
   ]
  },
  {
   "cell_type": "code",
   "execution_count": 47,
   "id": "f55463c3",
   "metadata": {},
   "outputs": [
    {
     "name": "stdout",
     "output_type": "stream",
     "text": [
      "숫자들을 입력하셈 : 3 17 1 39 8 41 2 32 99 2\n",
      "['3', ' ', '1', '7', ' ', '1', ' ', '3', '9', ' ', '8', ' ', '4', '1', ' ', '2', ' ', '3', '2', ' ', '9', '9', ' ', '2']\n"
     ]
    }
   ],
   "source": [
    "def odd_sum(numbers):\n",
    "    rows = 0"
   ]
  },
  {
   "cell_type": "code",
   "execution_count": 49,
   "id": "bc114a25",
   "metadata": {},
   "outputs": [
    {
     "name": "stdout",
     "output_type": "stream",
     "text": [
      "허준의 지역은 서울입니다.\n",
      "철수의 지역은 대전입니다.\n",
      "영희의 지역은 광주입니다.\n"
     ]
    }
   ],
   "source": [
    "def ssafy(name, location='서울'):\n",
    "    print(f'{name}의 지역은 {location}입니다.')\n",
    "    \n",
    "ssafy('허준')\n",
    "ssafy(location='대전', name='철수')\n",
    "ssafy('영희', location='광주')\n",
    "# ssafy(name='길동', '구미')"
   ]
  },
  {
   "cell_type": "code",
   "execution_count": 51,
   "id": "3f2d1f1f",
   "metadata": {},
   "outputs": [
    {
     "name": "stdout",
     "output_type": "stream",
     "text": [
      "10\n"
     ]
    }
   ],
   "source": [
    "def my_func(a, b):\n",
    "    c = a + b\n",
    "    print(c)\n",
    "\n",
    "result = my_func(3, 7)"
   ]
  },
  {
   "cell_type": "code",
   "execution_count": null,
   "id": "d8723542",
   "metadata": {},
   "outputs": [],
   "source": []
  },
  {
   "cell_type": "code",
   "execution_count": 53,
   "id": "42df010c",
   "metadata": {},
   "outputs": [],
   "source": [
    "def snail(height, day, night):\n",
    "    date = 0\n",
    "    snail_height = 0\n",
    "    while snail_height < height:\n",
    "        date += 1\n",
    "        snail_height += day\n",
    "        snail_height -= night\n",
    "    return date\n"
   ]
  },
  {
   "cell_type": "code",
   "execution_count": 60,
   "id": "5d1fc55a",
   "metadata": {},
   "outputs": [
    {
     "data": {
      "text/plain": [
       "81.0"
      ]
     },
     "execution_count": 60,
     "metadata": {},
     "output_type": "execute_result"
    }
   ],
   "source": [
    "def my_avg(*numbers):\n",
    "    total = 0\n",
    "    for i in range(len(numbers)):\n",
    "        total += numbers[i]\n",
    "    return total / len(numbers)\n",
    "\n",
    "my_avg(77, 83, 95, 80, 70)"
   ]
  },
  {
   "cell_type": "code",
   "execution_count": null,
   "id": "fbbd8f04",
   "metadata": {},
   "outputs": [],
   "source": []
  }
 ],
 "metadata": {
  "kernelspec": {
   "display_name": "Python 3 (ipykernel)",
   "language": "python",
   "name": "python3"
  },
  "language_info": {
   "codemirror_mode": {
    "name": "ipython",
    "version": 3
   },
   "file_extension": ".py",
   "mimetype": "text/x-python",
   "name": "python",
   "nbconvert_exporter": "python",
   "pygments_lexer": "ipython3",
   "version": "3.9.9"
  }
 },
 "nbformat": 4,
 "nbformat_minor": 5
}
